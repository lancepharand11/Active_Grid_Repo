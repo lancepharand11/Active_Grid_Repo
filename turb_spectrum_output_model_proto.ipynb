version https://git-lfs.github.com/spec/v1
oid sha256:dd5bb9638b0fa25706fb3b7cd32e7619b7110773ab44f80842ef2c9a9cb0ae16
size 35012
