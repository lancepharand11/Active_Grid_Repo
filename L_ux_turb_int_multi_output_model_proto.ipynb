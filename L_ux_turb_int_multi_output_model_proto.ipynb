version https://git-lfs.github.com/spec/v1
oid sha256:c5f3147c921106b85ae7f3e32a53d362bc11ba35890fd5aacbe6c64a88c979ba
size 97160729
