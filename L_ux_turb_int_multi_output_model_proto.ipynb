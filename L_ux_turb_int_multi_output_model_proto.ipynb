version https://git-lfs.github.com/spec/v1
oid sha256:0e53028700af2fc3d5188a5f891811bb67179a3f94a4d5c595cc458d123b20ac
size 97160793
